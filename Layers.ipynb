{
 "cells": [
  {
   "cell_type": "code",
   "execution_count": null,
   "metadata": {
    "colab": {
     "base_uri": "https://localhost:8080/"
    },
    "executionInfo": {
     "elapsed": 48928,
     "status": "ok",
     "timestamp": 1649026104990,
     "user": {
      "displayName": "Alicia Nguyen",
      "userId": "03695225755160591430"
     },
     "user_tz": 240
    },
    "id": "cSdn-OZici1k",
    "outputId": "44ea8e54-72c9-473c-bf94-68d5512472ad"
   },
   "outputs": [
    {
     "name": "stdout",
     "output_type": "stream",
     "text": [
      "Collecting import-ipynb\n",
      "  Downloading import-ipynb-0.1.3.tar.gz (4.0 kB)\n",
      "Building wheels for collected packages: import-ipynb\n",
      "  Building wheel for import-ipynb (setup.py) ... \u001b[?25l\u001b[?25hdone\n",
      "  Created wheel for import-ipynb: filename=import_ipynb-0.1.3-py3-none-any.whl size=2975 sha256=8299857f56b2ebd6c250036068cc4c029d62ab69d563fe61b2f06261f842777b\n",
      "  Stored in directory: /root/.cache/pip/wheels/b1/5e/dc/79780689896a056199b0b9f24471e3ee184fbd816df355d5f0\n",
      "Successfully built import-ipynb\n",
      "Installing collected packages: import-ipynb\n",
      "Successfully installed import-ipynb-0.1.3\n",
      "importing Jupyter notebook from ActivationFunctions.ipynb\n"
     ]
    }
   ],
   "source": [
    "!pip install import-ipynb\n",
    "import import_ipynb\n",
    "# Install the PyDrive wrapper & import libraries.\n",
    "!pip install -U -q PyDrive\n",
    "from pydrive.auth import GoogleAuth\n",
    "from pydrive.drive import GoogleDrive\n",
    "from google.colab import auth\n",
    "from oauth2client.client import GoogleCredentials\n",
    "\n",
    "# Authenticate and create the PyDrive client.\n",
    "auth.authenticate_user()\n",
    "gauth = GoogleAuth()\n",
    "gauth.credentials = GoogleCredentials.get_application_default()\n",
    "drive = GoogleDrive(gauth)\n",
    "\n",
    "#your_module1 = drive.CreateFile({'id':''})\n",
    "#your_module1.GetContentFile('ActivationFunctions.ipynb')\n",
    "import ActivationFunctions as af"
   ]
  },
  {
   "cell_type": "code",
   "execution_count": null,
   "metadata": {
    "id": "B7Uo10wNcO6S"
   },
   "outputs": [],
   "source": [
    "#object for each layer of our MLP\n",
    "#define a base/parent class that the 3 types of layers will inherit from\n",
    "#3 different layer articulations after, 1 \"edge\" layer articulation\n",
    "\n",
    "import numpy as np\n",
    "np.random.seed(1)\n",
    "\n",
    "#hidden layer can have whatever relavent activation function\n",
    "# conncet to edgess\n",
    "class HiddenLayer():\n",
    "    def __init__(self, activation_function_obj):       \n",
    "        #INPUT TO LAYER: computed from last edge = Z aka z^l-1 = WX + b\n",
    "        #LAYER OUTPUT: h()\n",
    "        #self.output=  where the output of the activation function stored: activation_function (z)\n",
    "        #ACTIVATION FUNCTION\n",
    "        self.activation_function = activation_function_obj.get_func()\n",
    "        self.activation_function_der = activation_function_obj.get_deriv()\n",
    "\n",
    "    #input here is X aka z^l-1 (output of the last layer)\n",
    "    #output is z^l \n",
    "    def get_output(self, z):\n",
    "        #compute activation function\n",
    "        output = self.activation_function(z)\n",
    "        return output \n",
    "\n",
    "    #function to return the derivative of this layer's activation function computed at z(activation)\n",
    "    def get_af_deriv(self,z):\n",
    "        dh = self.activation_function_der(z)\n",
    "        return dh #derivative of h(z)\n",
    "\n",
    "#the edge class performs the linear transformations (ie Wv + b)\n",
    "class Edge():\n",
    "    #n_out will be C if final edge\n",
    "    def __init__(self, n_in, n_out):       \n",
    "        #INPUT TO LAYER: h() of last layer\n",
    "        #OUTPUT:  #self.output = z^l = WX + b\n",
    "        #PARAMETERS  (dimensions from constructor of MLP)\n",
    "        #bias addition handled in constructor, V will be W for final edge\n",
    "        self.V = np.random.randn(n_in, n_out) * 0.1   #V dim = M x D\n",
    "        \n",
    "    # compute VX + b: z @ V + b, b incorporated into weight and X vector\n",
    "    #z will be X for first input edge\n",
    "    def get_output(self, z):\n",
    "        output = z @ self.V  \n",
    "        return output\n",
    "\n",
    "    #will be W for the final layer\n",
    "    def get_params(self):\n",
    "        return self.V\n",
    "    \n",
    "    #for altering initialization\n",
    "    #will be W for the final layer\n",
    "    def set_params(self, V):\n",
    "        self.V = V\n",
    "\n",
    "#layer task is to apply the relavent function for our task\n",
    "#softmax for multiclass classification\n",
    "class OutputLayer():\n",
    "\n",
    "    def __init__(self, activation_function_obj, cost_function):       \n",
    "        self.activation_function = activation_function_obj.get_func()  #ACTIVATION FUNCTION\n",
    "        self.cost_function = cost_function              #COST FUNCTION\n",
    "\n",
    "\n",
    "    def get_output(self, z):\n",
    "        output = self.activation_function(z) \n",
    "        return output \n",
    "    \n",
    "    #cost function passed to constructor\n",
    "    #categorical cross  entropy cost function\n",
    "    def get_cost(self, Y, Yh):\n",
    "        return self.cost_function(Y, Yh)"
   ]
  }
 ],
 "metadata": {
  "colab": {
   "collapsed_sections": [],
   "name": "Layers.ipynb",
   "provenance": [
    {
     "file_id": "1UeAiVI5fuh3KUOl6seH8MgKJ8lVPIctD",
     "timestamp": 1649045431319
    }
   ]
  },
  "kernelspec": {
   "display_name": "Python 3 (ipykernel)",
   "language": "python",
   "name": "python3"
  },
  "language_info": {
   "codemirror_mode": {
    "name": "ipython",
    "version": 3
   },
   "file_extension": ".py",
   "mimetype": "text/x-python",
   "name": "python",
   "nbconvert_exporter": "python",
   "pygments_lexer": "ipython3",
   "version": "3.9.7"
  }
 },
 "nbformat": 4,
 "nbformat_minor": 1
}
